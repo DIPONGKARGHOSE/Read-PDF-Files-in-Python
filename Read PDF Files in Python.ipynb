{
 "cells": [
  {
   "cell_type": "code",
   "execution_count": 36,
   "id": "d3fdaeeb",
   "metadata": {},
   "outputs": [],
   "source": [
    "\n",
    "from pypdf import PdfReader"
   ]
  },
  {
   "cell_type": "code",
   "execution_count": 28,
   "id": "fb7d6a7d",
   "metadata": {},
   "outputs": [],
   "source": [
    "file =open(\"C:/Users/NIJUM/Downloads/DIPONGKAR__Ghose_CV.pdf\",\"rb\")\n",
    "pd =PdfReader(file)\n",
    "text=\"\"\n",
    "for i in range(len(pd.pages)):\n",
    "    page=pd.pages[i]\n",
    "    text=text+page.extract_text()\n",
    "    for i in page.images:\n",
    "        with open(f\"C:/Users/NIJUM/Downloads/DIPONGKAR\"+i.name, \"wb\") as file:\n",
    "            file.write(i.data)\n"
   ]
  },
  {
   "cell_type": "code",
   "execution_count": 48,
   "id": "a1813812",
   "metadata": {},
   "outputs": [],
   "source": [
    "\n",
    "with open(f\"C:/Users/NIJUM/Downloads/DIPONGKAR.txt\", \"w\", encoding=\"utf-8\") as file:\n",
    "     file.write(text)\n"
   ]
  },
  {
   "cell_type": "code",
   "execution_count": 50,
   "id": "f5f19f83",
   "metadata": {},
   "outputs": [
    {
     "name": "stdout",
     "output_type": "stream",
     "text": [
      "{'url': ['https://github.com/DIPONGKARGHOSE/HR_Data_Analysis', 'https://www.hackerearth.com/@dipongkar97', 'https://lightoj.com/user/nijum0098', 'https://github.com/DIPONGKARGHOSE/Sales_Profit_Report', 'https://github.com/DIPONGKARGHOSE/LUBustracker', 'https://codeforces.com/profile/Dipongkar', 'https://www.codechef.com/rankings/JAN20B?filterBy=Country%3DBangladesh&order=asc&sortBy=rank', 'https://colab.research.google.com/drive/1RDPEdE-lALmlM5TLohCCHQwJ2b1t2938?usp=sharing', 'mailto:dipongkar98@gmail.com', 'https://vjudge.net/user/Dipongkar_LU', 'https://coursera.org/share/16222b480432f45298dcdba61451bf24', 'https://www.linkedin.com/in/dipongkar-ghose-1938931b1/', 'https://colab.research.google.com/drive/1CJgIFrNfRsktTMjY8dO-b79xYumDH2wh?usp=sharing', 'https://play.google.com/store/apps/details?id=com.pushupscounter.pushup_live_couter', 'https://www.coursera.org/account/accomplishments/verify/UJCS8Z4RNTVM', 'https://www.coursera.org/account/accomplishments/verify/LBNNAQS7RRJF', 'https://www.udemy.com/certificate/UC-d60ae0b7-9e8c-4db4-ba52-1e5bd9fd5bbf/', 'B.Sc', 'https://www.codechef.com/users/dipongkar97', 'https://github.com/DIPONGKARGHOSE'], 'pdf': ['https://res.cloudinary.com/bohubrihi/image/upload/v1714939287/production/6618cee9fbb178a991af7c2f.pdf']}\n"
     ]
    }
   ],
   "source": [
    "import pdfx \n",
    " \n",
    "# Read PDF File\n",
    "pdf = pdfx.PDFx(\"C:/Users/NIJUM/Downloads/DIPONGKAR__Ghose_CV.pdf\") \n",
    " \n",
    "# Get list of URL\n",
    "print(pdf.get_references_as_dict())"
   ]
  },
  {
   "cell_type": "code",
   "execution_count": null,
   "id": "6b02e810",
   "metadata": {},
   "outputs": [],
   "source": []
  }
 ],
 "metadata": {
  "kernelspec": {
   "display_name": "Python 3 (ipykernel)",
   "language": "python",
   "name": "python3"
  },
  "language_info": {
   "codemirror_mode": {
    "name": "ipython",
    "version": 3
   },
   "file_extension": ".py",
   "mimetype": "text/x-python",
   "name": "python",
   "nbconvert_exporter": "python",
   "pygments_lexer": "ipython3",
   "version": "3.9.18"
  }
 },
 "nbformat": 4,
 "nbformat_minor": 5
}
